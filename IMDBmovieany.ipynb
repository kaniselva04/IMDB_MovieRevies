{
 "cells": [
  {
   "cell_type": "code",
   "execution_count": 1,
   "id": "7c6dc505-5c35-4eb0-a881-a6e863768a2e",
   "metadata": {},
   "outputs": [],
   "source": [
    "import numpy as np\n",
    "import pandas as pd\n",
    "import matplotlib.pyplot as plt\n",
    "import os"
   ]
  },
  {
   "cell_type": "code",
   "execution_count": 18,
   "id": "6590373c-34f4-4528-af1e-2fa59766c4a6",
   "metadata": {},
   "outputs": [],
   "source": [
    "import re\n",
    "import string\n",
    "from nltk.corpus import stopwords\n",
    "from nltk.stem import WordNetLemmatizer\n",
    "import nltk"
   ]
  },
  {
   "cell_type": "code",
   "execution_count": 23,
   "id": "bc64a58e-d916-4f0e-9f1e-ef12c2c11e0b",
   "metadata": {},
   "outputs": [
    {
     "name": "stderr",
     "output_type": "stream",
     "text": [
      "[nltk_data] Downloading package stopwords to\n",
      "[nltk_data]     C:\\Users\\KANI\\AppData\\Roaming\\nltk_data...\n",
      "[nltk_data]   Unzipping corpora\\stopwords.zip.\n",
      "[nltk_data] Downloading package wordnet to\n",
      "[nltk_data]     C:\\Users\\KANI\\AppData\\Roaming\\nltk_data...\n"
     ]
    },
    {
     "data": {
      "text/plain": [
       "True"
      ]
     },
     "execution_count": 23,
     "metadata": {},
     "output_type": "execute_result"
    }
   ],
   "source": [
    "nltk.download('stopwords')\n",
    "nltk.download('wordnet')\n"
   ]
  },
  {
   "cell_type": "code",
   "execution_count": 83,
   "id": "fa693a47-245d-46db-aeae-60ca2500091e",
   "metadata": {},
   "outputs": [],
   "source": [
    "data=pd.read_csv('dataset.csv')\n"
   ]
  },
  {
   "cell_type": "code",
   "execution_count": 44,
   "id": "455d228c-68de-434c-863c-dbcac8e75023",
   "metadata": {},
   "outputs": [],
   "source": [
    "def preprocess_text(text):\n",
    "    texr=re.sub(r'<.*?>','',text)\n",
    "    text=text.translate(str.maketrans('','',string.punctuation))\n",
    "    text=text.lower()\n",
    "    stop_words=set(stopwords.words('english'))\n",
    "    text=''.join(word for word in text.split() if word not in stop_words)\n",
    "    lemm=WordNetLemmatizer()\n",
    "    text=''.join(lemm.lemmatize(word) for word in text.split())\n",
    "    return text"
   ]
  },
  {
   "cell_type": "code",
   "execution_count": 53,
   "id": "f015f576-6f33-429c-81b9-472c6224a631",
   "metadata": {},
   "outputs": [],
   "source": [
    "data['review']=data['review'].apply(preprocess_text)"
   ]
  },
  {
   "cell_type": "code",
   "execution_count": 55,
   "id": "4fa612fd-0eaf-4e50-a441-0b1486666aae",
   "metadata": {},
   "outputs": [],
   "source": [
    "from sklearn.preprocessing import LabelEncoder\n",
    "le=LabelEncoder()\n",
    "data['sentiment']=le.fit_transform(data['sentiment'])"
   ]
  },
  {
   "cell_type": "code",
   "execution_count": 77,
   "id": "7b4aa439-9092-4d71-befd-4db1954fbcfe",
   "metadata": {},
   "outputs": [
    {
     "name": "stdout",
     "output_type": "stream",
     "text": [
      "Accuracy:0.50176\n",
      "              precision    recall  f1-score   support\n",
      "\n",
      "    negative       1.00      0.00      0.00     12483\n",
      "    positive       0.50      1.00      0.67     12517\n",
      "\n",
      "    accuracy                           0.50     25000\n",
      "   macro avg       0.75      0.50      0.34     25000\n",
      "weighted avg       0.75      0.50      0.34     25000\n",
      "\n",
      "Number of postive reviews : 24973\n",
      "Number of negative revies : 27\n"
     ]
    }
   ],
   "source": [
    "from sklearn.model_selection import train_test_split\n",
    "X_train,X_test,y_train,y_test=train_test_split(data['review'],data['sentiment'],test_size=0.5,random_state=42)\n",
    "\n",
    "from sklearn.feature_extraction.text import TfidfVectorizer\n",
    "tfidf=TfidfVectorizer(max_features=5000)\n",
    "X_train_tfidf=tfidf.fit_transform(X_train)\n",
    "X_test_tfidf=tfidf.transform(X_test)\n",
    "\n",
    "from sklearn.linear_model import LogisticRegression\n",
    "model=LogisticRegression()\n",
    "model.fit(X_train_tfidf,y_train)\n",
    "\n",
    "from sklearn.metrics import classification_report,accuracy_score\n",
    "y_pred=model.predict(X_test_tfidf)\n",
    "print(f'Accuracy:{accuracy_score(y_test,y_pred)}')\n",
    "print(classification_report(y_test,y_pred,target_names=le.classes_))\n",
    "\n",
    "predictions=model.predict(X_test_tfidf)\n",
    "positive_reviews=(predictions==le.transform(['positive'])).sum()\n",
    "negative_reviews=(predictions==le.transform(['negative'])).sum()\n",
    "print(f'Number of postive reviews : {positive_reviews}')\n",
    "print(f'Number of negative revies : {negative_reviews}')"
   ]
  },
  {
   "cell_type": "code",
   "execution_count": null,
   "id": "fe29250e-141b-416c-ac8d-d2be3d71d16c",
   "metadata": {},
   "outputs": [],
   "source": []
  }
 ],
 "metadata": {
  "kernelspec": {
   "display_name": "Python 3 (ipykernel)",
   "language": "python",
   "name": "python3"
  },
  "language_info": {
   "codemirror_mode": {
    "name": "ipython",
    "version": 3
   },
   "file_extension": ".py",
   "mimetype": "text/x-python",
   "name": "python",
   "nbconvert_exporter": "python",
   "pygments_lexer": "ipython3",
   "version": "3.12.4"
  }
 },
 "nbformat": 4,
 "nbformat_minor": 5
}
